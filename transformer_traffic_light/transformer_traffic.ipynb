{
 "cells": [
  {
   "cell_type": "markdown",
   "id": "1181bf0a",
   "metadata": {},
   "source": [
    "Tutorial from: https://huggingface.co/blog/autoformer"
   ]
  },
  {
   "cell_type": "markdown",
   "id": "71a0aa64",
   "metadata": {},
   "source": []
  }
 ],
 "metadata": {
  "language_info": {
   "name": "python"
  }
 },
 "nbformat": 4,
 "nbformat_minor": 5
}
