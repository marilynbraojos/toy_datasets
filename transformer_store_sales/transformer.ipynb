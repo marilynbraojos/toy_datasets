{
 "cells": [
  {
   "cell_type": "markdown",
   "id": "c7d8a438",
   "metadata": {},
   "source": [
    "Tutorial Reference: https://medium.com/@mkaanaslan99/time-series-forecasting-with-a-basic-transformer-model-in-pytorch-650f116a1018"
   ]
  },
  {
   "cell_type": "markdown",
   "id": "a66555a9",
   "metadata": {},
   "source": [
    "Kaggle Dataset: https://www.kaggle.com/c/store-sales-time-series-forecasting/data"
   ]
  },
  {
   "cell_type": "markdown",
   "id": "ea055c59",
   "metadata": {},
   "source": [
    "Objectives: Predict 16 days of future sales for 33 product families across 54 stores - this creates 1782 unique time series: \n",
    "$$\n",
    "54 \\times 33 = 1782\n",
    "$$"
   ]
  },
  {
   "cell_type": "code",
   "execution_count": null,
   "id": "e35eeca2",
   "metadata": {},
   "outputs": [],
   "source": []
  },
  {
   "cell_type": "code",
   "execution_count": 1,
   "id": "f313c738",
   "metadata": {},
   "outputs": [
    {
     "ename": "NameError",
     "evalue": "name 'data_all' is not defined",
     "output_type": "error",
     "traceback": [
      "\u001b[31m---------------------------------------------------------------------------\u001b[39m",
      "\u001b[31mNameError\u001b[39m                                 Traceback (most recent call last)",
      "\u001b[36mCell\u001b[39m\u001b[36m \u001b[39m\u001b[32mIn[1]\u001b[39m\u001b[32m, line 5\u001b[39m\n\u001b[32m      3\u001b[39m categorical_covariates_num_embeddings = []\n\u001b[32m      4\u001b[39m \u001b[38;5;28;01mfor\u001b[39;00m col \u001b[38;5;129;01min\u001b[39;00m categorical_covariates:\n\u001b[32m----> \u001b[39m\u001b[32m5\u001b[39m     data_all[col] = \u001b[43mdata_all\u001b[49m[col].astype(\u001b[33m'\u001b[39m\u001b[33mcategory\u001b[39m\u001b[33m'\u001b[39m).cat.codes\n\u001b[32m      6\u001b[39m     categorical_covariates_num_embeddings.append(data_all[col].nunique())\n\u001b[32m      8\u001b[39m categorical_static = [\u001b[33m'\u001b[39m\u001b[33mstore_nbr\u001b[39m\u001b[33m'\u001b[39m,\u001b[33m'\u001b[39m\u001b[33mcity\u001b[39m\u001b[33m'\u001b[39m,\u001b[33m'\u001b[39m\u001b[33mstate\u001b[39m\u001b[33m'\u001b[39m,\u001b[33m'\u001b[39m\u001b[33mtype\u001b[39m\u001b[33m'\u001b[39m,\u001b[33m'\u001b[39m\u001b[33mcluster\u001b[39m\u001b[33m'\u001b[39m,\u001b[33m'\u001b[39m\u001b[33mfamily_int\u001b[39m\u001b[33m'\u001b[39m]\n",
      "\u001b[31mNameError\u001b[39m: name 'data_all' is not defined"
     ]
    }
   ],
   "source": [
    "categorical_covariates = ['time_idx','week_day','month_day','month','year','holiday']\n",
    "\n",
    "categorical_covariates_num_embeddings = []\n",
    "for col in categorical_covariates:\n",
    "    data_all[col] = data_all[col].astype('category').cat.codes\n",
    "    categorical_covariates_num_embeddings.append(data_all[col].nunique())\n",
    "\n",
    "categorical_static = ['store_nbr','city','state','type','cluster','family_int']\n",
    "\n",
    "categorical_static_num_embeddings = []\n",
    "for col in categorical_static:\n",
    "    data_all[col] = data_all[col].astype('category').cat.codes\n",
    "    categorical_static_num_embeddings.append(data_all[col].nunique())\n",
    "\n",
    "numeric_covariates = ['sales','dcoilwtico','dcoilwtico_future','onpromotion','onpromotion_future','store_sales','transactions','family_sales']\n",
    "\n",
    "target_idx = np.where(np.array(numeric_covariates)=='sales')[0][0]"
   ]
  },
  {
   "cell_type": "code",
   "execution_count": null,
   "id": "492cc20b",
   "metadata": {},
   "outputs": [],
   "source": []
  }
 ],
 "metadata": {
  "kernelspec": {
   "display_name": "toy_transformer",
   "language": "python",
   "name": "python3"
  },
  "language_info": {
   "codemirror_mode": {
    "name": "ipython",
    "version": 3
   },
   "file_extension": ".py",
   "mimetype": "text/x-python",
   "name": "python",
   "nbconvert_exporter": "python",
   "pygments_lexer": "ipython3",
   "version": "3.13.2"
  }
 },
 "nbformat": 4,
 "nbformat_minor": 5
}
